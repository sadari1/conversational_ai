{
 "metadata": {
  "language_info": {
   "codemirror_mode": {
    "name": "ipython",
    "version": 3
   },
   "file_extension": ".py",
   "mimetype": "text/x-python",
   "name": "python",
   "nbconvert_exporter": "python",
   "pygments_lexer": "ipython3",
   "version": "3.6.5-final"
  },
  "orig_nbformat": 2,
  "kernelspec": {
   "name": "python36",
   "display_name": "python36"
  }
 },
 "nbformat": 4,
 "nbformat_minor": 2,
 "cells": [
  {
   "cell_type": "code",
   "execution_count": 6,
   "metadata": {
    "tags": []
   },
   "outputs": [
    {
     "output_type": "stream",
     "name": "stderr",
     "text": "You do not have sufficient privilege to perform this operation.\nTraceback (most recent call last):\n  File \"C:\\Users\\Shumpu\\Anaconda2\\envs\\p36\\lib\\runpy.py\", line 193, in _run_module_as_main\n    \"__main__\", mod_spec)\n  File \"C:\\Users\\Shumpu\\Anaconda2\\envs\\p36\\lib\\runpy.py\", line 85, in _run_code\n    exec(code, run_globals)\n  File \"C:\\Users\\Shumpu\\Anaconda2\\envs\\p36\\lib\\site-packages\\spacy\\__main__.py\", line 35, in <module>\n    plac.call(commands[command], sys.argv[1:])\n  File \"C:\\Users\\Shumpu\\Anaconda2\\envs\\p36\\lib\\site-packages\\plac_core.py\", line 328, in call\n    cmd, result = parser.consume(arglist)\n  File \"C:\\Users\\Shumpu\\Anaconda2\\envs\\p36\\lib\\site-packages\\plac_core.py\", line 207, in consume\n    return cmd, self.func(*(args + varargs + extraopts), **kwargs)\n  File \"C:\\Users\\Shumpu\\Anaconda2\\envs\\p36\\lib\\site-packages\\spacy\\cli\\link.py\", line 65, in link\n    symlink_to(link_path, model_path)\n  File \"C:\\Users\\Shumpu\\Anaconda2\\envs\\p36\\lib\\site-packages\\spacy\\compat.py\", line 96, in symlink_to\n    [\"mklink\", \"/d\", path2str(orig), path2str(dest)], shell=True\n  File \"C:\\Users\\Shumpu\\Anaconda2\\envs\\p36\\lib\\subprocess.py\", line 291, in check_call\n    raise CalledProcessError(retcode, cmd)\nsubprocess.CalledProcessError: Command '['mklink', '/d', 'C:\\\\Users\\\\Shumpu\\\\Anaconda2\\\\envs\\\\p36\\\\lib\\\\site-packages\\\\spacy\\\\data\\\\en', 'C:\\\\Users\\\\Shumpu\\\\Anaconda2\\\\envs\\\\p36\\\\lib\\\\site-packages\\\\en_core_web_sm']' returned non-zero exit status 1.\n[x] Couldn't link model to 'en'\nCreating a symlink in spacy/data failed. Make sure you have the required\npermissions and try re-running the command as admin, or use a virtualenv. You\ncan still import the model as a module and call its load() method, or create the\nsymlink manually.\nC:\\Users\\Shumpu\\Anaconda2\\envs\\p36\\lib\\site-packages\\en_core_web_sm -->\nC:\\Users\\Shumpu\\Anaconda2\\envs\\p36\\lib\\site-packages\\spacy\\data\\en\n"
    }
   ],
   "source": [
    "!python -m spacy link en_core_web_sm en\n"
   ]
  },
  {
   "cell_type": "code",
   "execution_count": 1,
   "metadata": {},
   "outputs": [
    {
     "output_type": "execute_result",
     "data": {
      "text/plain": "'2.3.2'"
     },
     "metadata": {},
     "execution_count": 1
    }
   ],
   "source": [
    "import spacy\n",
    "spacy.__version__"
   ]
  },
  {
   "cell_type": "code",
   "execution_count": 10,
   "metadata": {},
   "outputs": [
    {
     "output_type": "error",
     "ename": "ModuleNotFoundError",
     "evalue": "No module named 'custom_adater'",
     "traceback": [
      "\u001b[1;31m---------------------------------------------------------------------------\u001b[0m",
      "\u001b[1;31mModuleNotFoundError\u001b[0m                       Traceback (most recent call last)",
      "\u001b[1;32m<ipython-input-10-e61739ebb036>\u001b[0m in \u001b[0;36m<module>\u001b[1;34m\u001b[0m\n\u001b[0;32m     14\u001b[0m \u001b[1;33m\u001b[0m\u001b[0m\n\u001b[0;32m     15\u001b[0m         {\n\u001b[1;32m---> 16\u001b[1;33m             \u001b[1;34m'import_path'\u001b[0m\u001b[1;33m:\u001b[0m \u001b[1;34m'custom_adater.MyLogicAdapter'\u001b[0m\u001b[1;33m\u001b[0m\u001b[0m\n\u001b[0m\u001b[0;32m     17\u001b[0m         }\n\u001b[0;32m     18\u001b[0m     ]\n",
      "\u001b[1;32m~\\Anaconda2\\envs\\p36\\lib\\site-packages\\chatterbot\\chatterbot.py\u001b[0m in \u001b[0;36m__init__\u001b[1;34m(self, name, **kwargs)\u001b[0m\n\u001b[0;32m     37\u001b[0m \u001b[1;33m\u001b[0m\u001b[0m\n\u001b[0;32m     38\u001b[0m         \u001b[1;32mfor\u001b[0m \u001b[0madapter\u001b[0m \u001b[1;32min\u001b[0m \u001b[0mlogic_adapters\u001b[0m\u001b[1;33m:\u001b[0m\u001b[1;33m\u001b[0m\u001b[0m\n\u001b[1;32m---> 39\u001b[1;33m             \u001b[0mutils\u001b[0m\u001b[1;33m.\u001b[0m\u001b[0mvalidate_adapter_class\u001b[0m\u001b[1;33m(\u001b[0m\u001b[0madapter\u001b[0m\u001b[1;33m,\u001b[0m \u001b[0mLogicAdapter\u001b[0m\u001b[1;33m)\u001b[0m\u001b[1;33m\u001b[0m\u001b[0m\n\u001b[0m\u001b[0;32m     40\u001b[0m             \u001b[0mlogic_adapter\u001b[0m \u001b[1;33m=\u001b[0m \u001b[0mutils\u001b[0m\u001b[1;33m.\u001b[0m\u001b[0minitialize_class\u001b[0m\u001b[1;33m(\u001b[0m\u001b[0madapter\u001b[0m\u001b[1;33m,\u001b[0m \u001b[0mself\u001b[0m\u001b[1;33m,\u001b[0m \u001b[1;33m**\u001b[0m\u001b[0mkwargs\u001b[0m\u001b[1;33m)\u001b[0m\u001b[1;33m\u001b[0m\u001b[0m\n\u001b[0;32m     41\u001b[0m             \u001b[0mself\u001b[0m\u001b[1;33m.\u001b[0m\u001b[0mlogic_adapters\u001b[0m\u001b[1;33m.\u001b[0m\u001b[0mappend\u001b[0m\u001b[1;33m(\u001b[0m\u001b[0mlogic_adapter\u001b[0m\u001b[1;33m)\u001b[0m\u001b[1;33m\u001b[0m\u001b[0m\n",
      "\u001b[1;32m~\\Anaconda2\\envs\\p36\\lib\\site-packages\\chatterbot\\utils.py\u001b[0m in \u001b[0;36mvalidate_adapter_class\u001b[1;34m(validate_class, adapter_class)\u001b[0m\n\u001b[0;32m     62\u001b[0m         \u001b[0mvalidate_class\u001b[0m \u001b[1;33m=\u001b[0m \u001b[0mvalidate_class\u001b[0m\u001b[1;33m.\u001b[0m\u001b[0mget\u001b[0m\u001b[1;33m(\u001b[0m\u001b[1;34m'import_path'\u001b[0m\u001b[1;33m)\u001b[0m\u001b[1;33m\u001b[0m\u001b[0m\n\u001b[0;32m     63\u001b[0m \u001b[1;33m\u001b[0m\u001b[0m\n\u001b[1;32m---> 64\u001b[1;33m     \u001b[1;32mif\u001b[0m \u001b[1;32mnot\u001b[0m \u001b[0missubclass\u001b[0m\u001b[1;33m(\u001b[0m\u001b[0mimport_module\u001b[0m\u001b[1;33m(\u001b[0m\u001b[0mvalidate_class\u001b[0m\u001b[1;33m)\u001b[0m\u001b[1;33m,\u001b[0m \u001b[0madapter_class\u001b[0m\u001b[1;33m)\u001b[0m\u001b[1;33m:\u001b[0m\u001b[1;33m\u001b[0m\u001b[0m\n\u001b[0m\u001b[0;32m     65\u001b[0m         raise Adapter.InvalidAdapterTypeException(\n\u001b[0;32m     66\u001b[0m             '{} must be a subclass of {}'.format(\n",
      "\u001b[1;32m~\\Anaconda2\\envs\\p36\\lib\\site-packages\\chatterbot\\utils.py\u001b[0m in \u001b[0;36mimport_module\u001b[1;34m(dotted_path)\u001b[0m\n\u001b[0;32m     13\u001b[0m     \u001b[0mmodule_parts\u001b[0m \u001b[1;33m=\u001b[0m \u001b[0mdotted_path\u001b[0m\u001b[1;33m.\u001b[0m\u001b[0msplit\u001b[0m\u001b[1;33m(\u001b[0m\u001b[1;34m'.'\u001b[0m\u001b[1;33m)\u001b[0m\u001b[1;33m\u001b[0m\u001b[0m\n\u001b[0;32m     14\u001b[0m     \u001b[0mmodule_path\u001b[0m \u001b[1;33m=\u001b[0m \u001b[1;34m'.'\u001b[0m\u001b[1;33m.\u001b[0m\u001b[0mjoin\u001b[0m\u001b[1;33m(\u001b[0m\u001b[0mmodule_parts\u001b[0m\u001b[1;33m[\u001b[0m\u001b[1;33m:\u001b[0m\u001b[1;33m-\u001b[0m\u001b[1;36m1\u001b[0m\u001b[1;33m]\u001b[0m\u001b[1;33m)\u001b[0m\u001b[1;33m\u001b[0m\u001b[0m\n\u001b[1;32m---> 15\u001b[1;33m     \u001b[0mmodule\u001b[0m \u001b[1;33m=\u001b[0m \u001b[0mimportlib\u001b[0m\u001b[1;33m.\u001b[0m\u001b[0mimport_module\u001b[0m\u001b[1;33m(\u001b[0m\u001b[0mmodule_path\u001b[0m\u001b[1;33m)\u001b[0m\u001b[1;33m\u001b[0m\u001b[0m\n\u001b[0m\u001b[0;32m     16\u001b[0m \u001b[1;33m\u001b[0m\u001b[0m\n\u001b[0;32m     17\u001b[0m     \u001b[1;32mreturn\u001b[0m \u001b[0mgetattr\u001b[0m\u001b[1;33m(\u001b[0m\u001b[0mmodule\u001b[0m\u001b[1;33m,\u001b[0m \u001b[0mmodule_parts\u001b[0m\u001b[1;33m[\u001b[0m\u001b[1;33m-\u001b[0m\u001b[1;36m1\u001b[0m\u001b[1;33m]\u001b[0m\u001b[1;33m)\u001b[0m\u001b[1;33m\u001b[0m\u001b[0m\n",
      "\u001b[1;32m~\\Anaconda2\\envs\\p36\\lib\\importlib\\__init__.py\u001b[0m in \u001b[0;36mimport_module\u001b[1;34m(name, package)\u001b[0m\n\u001b[0;32m    124\u001b[0m                 \u001b[1;32mbreak\u001b[0m\u001b[1;33m\u001b[0m\u001b[0m\n\u001b[0;32m    125\u001b[0m             \u001b[0mlevel\u001b[0m \u001b[1;33m+=\u001b[0m \u001b[1;36m1\u001b[0m\u001b[1;33m\u001b[0m\u001b[0m\n\u001b[1;32m--> 126\u001b[1;33m     \u001b[1;32mreturn\u001b[0m \u001b[0m_bootstrap\u001b[0m\u001b[1;33m.\u001b[0m\u001b[0m_gcd_import\u001b[0m\u001b[1;33m(\u001b[0m\u001b[0mname\u001b[0m\u001b[1;33m[\u001b[0m\u001b[0mlevel\u001b[0m\u001b[1;33m:\u001b[0m\u001b[1;33m]\u001b[0m\u001b[1;33m,\u001b[0m \u001b[0mpackage\u001b[0m\u001b[1;33m,\u001b[0m \u001b[0mlevel\u001b[0m\u001b[1;33m)\u001b[0m\u001b[1;33m\u001b[0m\u001b[0m\n\u001b[0m\u001b[0;32m    127\u001b[0m \u001b[1;33m\u001b[0m\u001b[0m\n\u001b[0;32m    128\u001b[0m \u001b[1;33m\u001b[0m\u001b[0m\n",
      "\u001b[1;32m~\\Anaconda2\\envs\\p36\\lib\\importlib\\_bootstrap.py\u001b[0m in \u001b[0;36m_gcd_import\u001b[1;34m(name, package, level)\u001b[0m\n",
      "\u001b[1;32m~\\Anaconda2\\envs\\p36\\lib\\importlib\\_bootstrap.py\u001b[0m in \u001b[0;36m_find_and_load\u001b[1;34m(name, import_)\u001b[0m\n",
      "\u001b[1;32m~\\Anaconda2\\envs\\p36\\lib\\importlib\\_bootstrap.py\u001b[0m in \u001b[0;36m_find_and_load_unlocked\u001b[1;34m(name, import_)\u001b[0m\n",
      "\u001b[1;31mModuleNotFoundError\u001b[0m: No module named 'custom_adater'"
     ]
    }
   ],
   "source": [
    "from chatterbot.trainers import ListTrainer\n",
    "from chatterbot import ChatBot\n",
    "\n",
    "bot = ChatBot(\n",
    "    'Norman',\n",
    "    storage_adapter='chatterbot.storage.SQLStorageAdapter',\n",
    "    database_uri='sqlite:///database.sqlite3',\n",
    "    logic_adapters=[\n",
    "        {\n",
    "            'import_path': 'chatterbot.logic.BestMatch',\n",
    "            'default_response': 'I am sorry, but I do not understand.',\n",
    "            'maximum_similarity_threshold': 0.75\n",
    "        },\n",
    "\n",
    "        {\n",
    "            'import_path': 'custom_adapter.MyLogicAdapter'\n",
    "        }\n",
    "    ]\n",
    ")\n"
   ]
  },
  {
   "cell_type": "code",
   "execution_count": 8,
   "metadata": {
    "tags": []
   },
   "outputs": [
    {
     "output_type": "stream",
     "name": "stdout",
     "text": "List Trainer: [####################] 100%\n"
    }
   ],
   "source": [
    "from chatterbot.trainers import ListTrainer\n",
    "\n",
    "trainer = ListTrainer(bot)\n",
    "\n",
    "# trainer.train([\n",
    "#     'How are you?',\n",
    "#     'I am good.',\n",
    "#     'That is good to hear.',\n",
    "#     'Thank you',\n",
    "#     'You are welcome.',\n",
    "# ])\n",
    "\n",
    "trainer.train([\n",
    "    \"How are you?\",\n",
    "    \"I am good.\",\n",
    "    \"That is good to hear.\",\n",
    "    \"Thank you\",\n",
    "    \"You are welcome.\",\n",
    "])"
   ]
  },
  {
   "cell_type": "code",
   "execution_count": 9,
   "metadata": {
    "tags": []
   },
   "outputs": [
    {
     "output_type": "error",
     "ename": "AdapterMethodNotImplementedError",
     "evalue": "This method must be overridden in a subclass method.",
     "traceback": [
      "\u001b[1;31m---------------------------------------------------------------------------\u001b[0m",
      "\u001b[1;31mAdapterMethodNotImplementedError\u001b[0m          Traceback (most recent call last)",
      "\u001b[1;32m<ipython-input-9-dd5532295710>\u001b[0m in \u001b[0;36m<module>\u001b[1;34m\u001b[0m\n\u001b[1;32m----> 1\u001b[1;33m \u001b[0mbot\u001b[0m\u001b[1;33m.\u001b[0m\u001b[0mget_response\u001b[0m\u001b[1;33m(\u001b[0m\u001b[1;34m\"That is good to hear.\"\u001b[0m\u001b[1;33m)\u001b[0m\u001b[1;33m\u001b[0m\u001b[0m\n\u001b[0m",
      "\u001b[1;32m~\\Anaconda2\\envs\\p36\\lib\\site-packages\\chatterbot\\chatterbot.py\u001b[0m in \u001b[0;36mget_response\u001b[1;34m(self, statement, **kwargs)\u001b[0m\n\u001b[0;32m    114\u001b[0m             \u001b[0minput_statement\u001b[0m\u001b[1;33m.\u001b[0m\u001b[0msearch_in_response_to\u001b[0m \u001b[1;33m=\u001b[0m \u001b[0mself\u001b[0m\u001b[1;33m.\u001b[0m\u001b[0mstorage\u001b[0m\u001b[1;33m.\u001b[0m\u001b[0mtagger\u001b[0m\u001b[1;33m.\u001b[0m\u001b[0mget_text_index_string\u001b[0m\u001b[1;33m(\u001b[0m\u001b[0minput_statement\u001b[0m\u001b[1;33m.\u001b[0m\u001b[0min_response_to\u001b[0m\u001b[1;33m)\u001b[0m\u001b[1;33m\u001b[0m\u001b[0m\n\u001b[0;32m    115\u001b[0m \u001b[1;33m\u001b[0m\u001b[0m\n\u001b[1;32m--> 116\u001b[1;33m         \u001b[0mresponse\u001b[0m \u001b[1;33m=\u001b[0m \u001b[0mself\u001b[0m\u001b[1;33m.\u001b[0m\u001b[0mgenerate_response\u001b[0m\u001b[1;33m(\u001b[0m\u001b[0minput_statement\u001b[0m\u001b[1;33m,\u001b[0m \u001b[0madditional_response_selection_parameters\u001b[0m\u001b[1;33m)\u001b[0m\u001b[1;33m\u001b[0m\u001b[0m\n\u001b[0m\u001b[0;32m    117\u001b[0m \u001b[1;33m\u001b[0m\u001b[0m\n\u001b[0;32m    118\u001b[0m         \u001b[1;31m# Update any response data that needs to be changed\u001b[0m\u001b[1;33m\u001b[0m\u001b[1;33m\u001b[0m\u001b[0m\n",
      "\u001b[1;32m~\\Anaconda2\\envs\\p36\\lib\\site-packages\\chatterbot\\chatterbot.py\u001b[0m in \u001b[0;36mgenerate_response\u001b[1;34m(self, input_statement, additional_response_selection_parameters)\u001b[0m\n\u001b[0;32m    150\u001b[0m             \u001b[1;32mif\u001b[0m \u001b[0madapter\u001b[0m\u001b[1;33m.\u001b[0m\u001b[0mcan_process\u001b[0m\u001b[1;33m(\u001b[0m\u001b[0minput_statement\u001b[0m\u001b[1;33m)\u001b[0m\u001b[1;33m:\u001b[0m\u001b[1;33m\u001b[0m\u001b[0m\n\u001b[0;32m    151\u001b[0m \u001b[1;33m\u001b[0m\u001b[0m\n\u001b[1;32m--> 152\u001b[1;33m                 \u001b[0moutput\u001b[0m \u001b[1;33m=\u001b[0m \u001b[0madapter\u001b[0m\u001b[1;33m.\u001b[0m\u001b[0mprocess\u001b[0m\u001b[1;33m(\u001b[0m\u001b[0minput_statement\u001b[0m\u001b[1;33m,\u001b[0m \u001b[0madditional_response_selection_parameters\u001b[0m\u001b[1;33m)\u001b[0m\u001b[1;33m\u001b[0m\u001b[0m\n\u001b[0m\u001b[0;32m    153\u001b[0m                 \u001b[0mresults\u001b[0m\u001b[1;33m.\u001b[0m\u001b[0mappend\u001b[0m\u001b[1;33m(\u001b[0m\u001b[0moutput\u001b[0m\u001b[1;33m)\u001b[0m\u001b[1;33m\u001b[0m\u001b[0m\n\u001b[0;32m    154\u001b[0m \u001b[1;33m\u001b[0m\u001b[0m\n",
      "\u001b[1;32m~\\Anaconda2\\envs\\p36\\lib\\site-packages\\chatterbot\\logic\\logic_adapter.py\u001b[0m in \u001b[0;36mprocess\u001b[1;34m(self, statement, additional_response_selection_parameters)\u001b[0m\n\u001b[0;32m     99\u001b[0m         \u001b[1;33m:\u001b[0m\u001b[0mrtype\u001b[0m\u001b[1;33m:\u001b[0m \u001b[0mStatement\u001b[0m\u001b[1;33m\u001b[0m\u001b[0m\n\u001b[0;32m    100\u001b[0m         \"\"\"\n\u001b[1;32m--> 101\u001b[1;33m         \u001b[1;32mraise\u001b[0m \u001b[0mself\u001b[0m\u001b[1;33m.\u001b[0m\u001b[0mAdapterMethodNotImplementedError\u001b[0m\u001b[1;33m(\u001b[0m\u001b[1;33m)\u001b[0m\u001b[1;33m\u001b[0m\u001b[0m\n\u001b[0m\u001b[0;32m    102\u001b[0m \u001b[1;33m\u001b[0m\u001b[0m\n\u001b[0;32m    103\u001b[0m     \u001b[1;32mdef\u001b[0m \u001b[0mget_default_response\u001b[0m\u001b[1;33m(\u001b[0m\u001b[0mself\u001b[0m\u001b[1;33m,\u001b[0m \u001b[0minput_statement\u001b[0m\u001b[1;33m)\u001b[0m\u001b[1;33m:\u001b[0m\u001b[1;33m\u001b[0m\u001b[0m\n",
      "\u001b[1;31mAdapterMethodNotImplementedError\u001b[0m: This method must be overridden in a subclass method."
     ]
    }
   ],
   "source": [
    "bot.get_response(\"That is good to hear.\")"
   ]
  },
  {
   "cell_type": "code",
   "execution_count": 85,
   "metadata": {},
   "outputs": [],
   "source": [
    "from chatterbot.logic import LogicAdapter\n",
    "\n",
    "\n",
    "class MyLogicAdapter(LogicAdapter):\n",
    "\n",
    "    def __init__(self, chatbot, **kwargs):\n",
    "        super().__init__(chatbot, **kwargs)\n",
    "\n",
    "        def can_process(self, statement):\n",
    "            return True\n",
    "\n",
    "        def process(self, input_statement, additional_response_selection_parameters):\n",
    "            import random\n",
    "\n",
    "            # Randomly select a confidence between 0 and 1\n",
    "            confidence = random.uniform(0, 1)\n",
    "\n",
    "            # For this example, we will just return the input as output\n",
    "            # selected_statement = input_statement\n",
    "            # selected_statement.confidence = confidence\n",
    "            selected_statement = \"None\" \n",
    "            \n",
    "            if input_statement == \"asdf\":\n",
    "                selected_statement = \"logic adapter\"\n",
    "\n",
    "            return selected_statement"
   ]
  },
  {
   "cell_type": "code",
   "execution_count": null,
   "metadata": {},
   "outputs": [],
   "source": []
  }
 ]
}